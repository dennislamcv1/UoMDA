{
 "cells": [
  {
   "cell_type": "markdown",
   "id": "aa408a6f",
   "metadata": {},
   "source": [
    "In this real-world case study, set in Mexico in 2006, a policy options analysis is being conducted to determine the specific criteria to be used for a new pension program that will provide poor people—ages 70 and older—a monthly pension of 500 pesos or 6,000 pesos a year. There is budget approval for this new program for the amount of 8.5 billion pesos in its first year. However, eligibility criteria still need to be determined. Who should be eligible for the pension?"
   ]
  },
  {
   "cell_type": "markdown",
   "id": "4e34f776",
   "metadata": {},
   "source": [
    "Part 1: Using the information in the above table, create a data visualization of the policy options analysis results for criteria 1 and 2 for a broad audience. "
   ]
  },
  {
   "cell_type": "code",
   "execution_count": 1,
   "id": "af15261e",
   "metadata": {},
   "outputs": [],
   "source": [
    "import numpy as np\n",
    "from numpy import count_nonzero, median, mean\n",
    "import pandas as pd\n",
    "import matplotlib.pyplot as plt\n",
    "import seaborn as sns\n",
    "import random"
   ]
  },
  {
   "cell_type": "code",
   "execution_count": 2,
   "id": "f99c4b2e",
   "metadata": {},
   "outputs": [],
   "source": [
    "df = pd.read_csv(\"Capstone.csv\")"
   ]
  },
  {
   "cell_type": "code",
   "execution_count": 3,
   "id": "94270743",
   "metadata": {},
   "outputs": [
    {
     "data": {
      "text/html": [
       "<div>\n",
       "<style scoped>\n",
       "    .dataframe tbody tr th:only-of-type {\n",
       "        vertical-align: middle;\n",
       "    }\n",
       "\n",
       "    .dataframe tbody tr th {\n",
       "        vertical-align: top;\n",
       "    }\n",
       "\n",
       "    .dataframe thead th {\n",
       "        text-align: right;\n",
       "    }\n",
       "</style>\n",
       "<table border=\"1\" class=\"dataframe\">\n",
       "  <thead>\n",
       "    <tr style=\"text-align: right;\">\n",
       "      <th></th>\n",
       "      <th>Option</th>\n",
       "      <th>Leakage</th>\n",
       "      <th>Undercoverage</th>\n",
       "      <th>Total Served</th>\n",
       "    </tr>\n",
       "  </thead>\n",
       "  <tbody>\n",
       "    <tr>\n",
       "      <th>0</th>\n",
       "      <td>Oportunidades</td>\n",
       "      <td>0.2576</td>\n",
       "      <td>0.6593</td>\n",
       "      <td>859299.0</td>\n",
       "    </tr>\n",
       "    <tr>\n",
       "      <th>1</th>\n",
       "      <td>Small Town</td>\n",
       "      <td>0.4238</td>\n",
       "      <td>0.5719</td>\n",
       "      <td>1413182.0</td>\n",
       "    </tr>\n",
       "    <tr>\n",
       "      <th>2</th>\n",
       "      <td>Marginality 3A</td>\n",
       "      <td>0.6553</td>\n",
       "      <td>0.4403</td>\n",
       "      <td>3040844.0</td>\n",
       "    </tr>\n",
       "    <tr>\n",
       "      <th>3</th>\n",
       "      <td>Marginality 3B</td>\n",
       "      <td>0.6553</td>\n",
       "      <td>0.7391</td>\n",
       "      <td>1416667.0</td>\n",
       "    </tr>\n",
       "  </tbody>\n",
       "</table>\n",
       "</div>"
      ],
      "text/plain": [
       "           Option  Leakage  Undercoverage  Total Served\n",
       "0   Oportunidades   0.2576         0.6593      859299.0\n",
       "1      Small Town   0.4238         0.5719     1413182.0\n",
       "2  Marginality 3A   0.6553         0.4403     3040844.0\n",
       "3  Marginality 3B   0.6553         0.7391     1416667.0"
      ]
     },
     "execution_count": 3,
     "metadata": {},
     "output_type": "execute_result"
    }
   ],
   "source": [
    "df"
   ]
  },
  {
   "cell_type": "code",
   "execution_count": 4,
   "id": "e3f94147",
   "metadata": {},
   "outputs": [
    {
     "name": "stdout",
     "output_type": "stream",
     "text": [
      "<class 'pandas.core.frame.DataFrame'>\n",
      "RangeIndex: 4 entries, 0 to 3\n",
      "Data columns (total 4 columns):\n",
      " #   Column         Non-Null Count  Dtype  \n",
      "---  ------         --------------  -----  \n",
      " 0   Option         4 non-null      object \n",
      " 1   Leakage        4 non-null      float64\n",
      " 2   Undercoverage  4 non-null      float64\n",
      " 3   Total Served   4 non-null      float64\n",
      "dtypes: float64(3), object(1)\n",
      "memory usage: 256.0+ bytes\n"
     ]
    }
   ],
   "source": [
    "df.info()"
   ]
  },
  {
   "cell_type": "code",
   "execution_count": 5,
   "id": "65be0e90",
   "metadata": {},
   "outputs": [
    {
     "data": {
      "text/plain": [
       "<Figure size 1440x1440 with 0 Axes>"
      ]
     },
     "metadata": {},
     "output_type": "display_data"
    },
    {
     "data": {
      "image/png": "[encoded data removed]",
      "text/plain": [
       "<Figure size 864x216 with 4 Axes>"
      ]
     },
     "metadata": {
      "needs_background": "light"
     },
     "output_type": "display_data"
    },
    {
     "data": {
      "image/png": "[encoded data removed]",
      "text/plain": [
       "<Figure size 864x216 with 4 Axes>"
      ]
     },
     "metadata": {
      "needs_background": "light"
     },
     "output_type": "display_data"
    },
    {
     "data": {
      "image/png": "[encoded data removed]",
      "text/plain": [
       "<Figure size 864x216 with 4 Axes>"
      ]
     },
     "metadata": {
      "needs_background": "light"
     },
     "output_type": "display_data"
    }
   ],
   "source": [
    "plt.figure(figsize=(20,20))\n",
    "\n",
    "\n",
    "g = sns.catplot(x='Leakage',  col = 'Option',\n",
    "            kind='bar', data=df,\n",
    "            height = 3, aspect = 1)\n",
    "plt.suptitle('Policy Option Analysis Results', x=0.5, y=1.2, ha='center', fontsize=20)\n",
    "\n",
    "g = sns.catplot(x='Undercoverage',  col = 'Option',\n",
    "            kind='bar', data=df,\n",
    "            height = 3, aspect = 1)\n",
    "\n",
    "g = sns.catplot(x='Total Served',  col = 'Option',\n",
    "            kind='bar', data=df,\n",
    "            height = 3, aspect = 1)\n",
    "\n",
    "g.set_xlabels(\"x\")\n",
    "g.set_ylabels(\"y\")\n",
    "g.set(xlim=(0,None))\n",
    "\n",
    "plt.tight_layout()\n",
    "plt.show()"
   ]
  },
  {
   "cell_type": "markdown",
   "id": "7a1635e5",
   "metadata": {},
   "source": [
    "Part 2: Make a recommendation on which eligibility criteria option should be chosen and why: "
   ]
  },
  {
   "cell_type": "code",
   "execution_count": null,
   "id": "2658d071",
   "metadata": {},
   "outputs": [],
   "source": []
  }
 ],
 "metadata": {
  "kernelspec": {
   "display_name": "Python 3 (ipykernel)",
   "language": "python",
   "name": "python3"
  },
  "language_info": {
   "codemirror_mode": {
    "name": "ipython",
    "version": 3
   },
   "file_extension": ".py",
   "mimetype": "text/x-python",
   "name": "python",
   "nbconvert_exporter": "python",
   "pygments_lexer": "ipython3",
   "version": "3.9.12"
  }
 },
 "nbformat": 4,
 "nbformat_minor": 5
}
